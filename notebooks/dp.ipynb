{
 "cells": [
  {
   "cell_type": "code",
   "execution_count": 1,
   "metadata": {},
   "outputs": [],
   "source": [
    "import sys\n",
    "import os\n",
    "\n",
    "sys.path.append(\"/data/igor/loss_traces\")"
   ]
  },
  {
   "cell_type": "code",
   "execution_count": 2,
   "metadata": {},
   "outputs": [],
   "source": [
    "%load_ext autoreload\n",
    "%autoreload 2"
   ]
  },
  {
   "cell_type": "code",
   "execution_count": 3,
   "metadata": {},
   "outputs": [],
   "source": [
    "from results.result_processing import get_trace_reduction\n",
    "from results.utils import (\n",
    "    make_precision_recall_at_k_df,\n",
    "    get_precision_at_fpr,\n",
    "    make_precision_recall_at_k_df_single_threshold,\n",
    ")\n",
    "from results.final_model_metrics import get_final_model_metrics\n",
    "from attacks import AttackConfig, LiRAAttack\n",
    "from sklearn.metrics import roc_curve\n",
    "import pandas as pd\n",
    "import numpy as np\n",
    "import pickle\n",
    "import opacus\n",
    "from opacus.validators import ModuleValidator"
   ]
  },
  {
   "cell_type": "code",
   "execution_count": null,
   "metadata": {},
   "outputs": [
    {
     "name": "stdout",
     "output_type": "stream",
     "text": [
      "Attack AUC: 0.6395701872\n"
     ]
    },
    {
     "name": "stderr",
     "output_type": "stream",
     "text": [
      "100%|███████████████████████████████████████████████████████████████████████████████████████████████████████████████████████████████████████████████████████████████████████████████████████████████████████████| 1563/1563 [00:10<00:00, 145.97it/s]\n",
      "100%|████████████████████████████████████████████████████████████████████████████████████████████████████████████████████████████████████████████████████████████████████████████████████████████████████████████| 1563/1563 [19:36<00:00,  1.33it/s]\n",
      "  0%|                                                                                                                                                                                                                       | 0/1563 [00:00<?, ?it/s]/home/igor/.venv/lib/python3.12/site-packages/captum/attr/_core/deep_lift.py:810: UserWarning: Setting forward, backward hooks and attributes on non-linear\n",
      "               activations. The hooks and attributes will be removed\n",
      "            after the attribution is finished\n",
      "  attributions = super().attribute.__wrapped__(  # type: ignore\n",
      "100%|████████████████████████████████████████████████████████████████████████████████████████████████████████████████████████████████████████████████████████████████████████████████████████████████████████████| 1563/1563 [16:25<00:00,  1.59it/s]\n"
     ]
    },
    {
     "name": "stdout",
     "output_type": "stream",
     "text": [
      "No intermediate results found at /data/igor/data/scaled_logits_intermediate/wrn28-2_CIFAR10_clipnorm_10_nm_0.1.pt. Computing intermediate results...\n",
      "Computing all metrics...\n",
      "Computed metrics for shadow 0\n",
      "Computed metrics for shadow 1\n",
      "Computed metrics for shadow 2\n",
      "Computed metrics for shadow 3\n",
      "Computed metrics for shadow 4\n",
      "Computed metrics for shadow 5\n",
      "Computed metrics for shadow 6\n",
      "Computed metrics for shadow 7\n",
      "Computed metrics for shadow 8\n",
      "Computed metrics for shadow 9\n",
      "Computed metrics for shadow 10\n",
      "Computed metrics for shadow 11\n",
      "Computed metrics for shadow 12\n",
      "Computed metrics for shadow 13\n",
      "Computed metrics for shadow 14\n",
      "Computed metrics for shadow 15\n",
      "Computing statistics for losses...\n",
      "Computing statistics for logits...\n",
      "Computing statistics for scaled_logits...\n",
      "Computing statistics for target_logits...\n",
      "Performance Timings:\n",
      "Total computation time: 366.87s\n",
      "Finished stats\n",
      "Attack AUC: 0.5111000800000001\n"
     ]
    },
    {
     "name": "stderr",
     "output_type": "stream",
     "text": [
      "100%|███████████████████████████████████████████████████████████████████████████████████████████████████████████████████████████████████████████████████████████████████████████████████████████████████████████| 1563/1563 [00:11<00:00, 141.91it/s]\n",
      "100%|████████████████████████████████████████████████████████████████████████████████████████████████████████████████████████████████████████████████████████████████████████████████████████████████████████████| 1563/1563 [20:01<00:00,  1.30it/s]\n",
      "  0%|                                                                                                                                                                                                                       | 0/1563 [00:00<?, ?it/s]/home/igor/.venv/lib/python3.12/site-packages/captum/attr/_core/deep_lift.py:810: UserWarning: Setting forward, backward hooks and attributes on non-linear\n",
      "               activations. The hooks and attributes will be removed\n",
      "            after the attribution is finished\n",
      "  attributions = super().attribute.__wrapped__(  # type: ignore\n",
      "100%|████████████████████████████████████████████████████████████████████████████████████████████████████████████████████████████████████████████████████████████████████████████████████████████████████████████| 1563/1563 [16:24<00:00,  1.59it/s]\n"
     ]
    },
    {
     "name": "stdout",
     "output_type": "stream",
     "text": [
      "No intermediate results found at /data/igor/data/scaled_logits_intermediate/wrn28-2_CIFAR10_clipnorm_10_nm_1.pt. Computing intermediate results...\n",
      "Computing all metrics...\n",
      "Computed metrics for shadow 0\n",
      "Computed metrics for shadow 1\n",
      "Computed metrics for shadow 2\n",
      "Computed metrics for shadow 3\n",
      "Computed metrics for shadow 4\n",
      "Computed metrics for shadow 5\n",
      "Computed metrics for shadow 6\n",
      "Computed metrics for shadow 7\n",
      "Computed metrics for shadow 8\n",
      "Computed metrics for shadow 9\n",
      "Computed metrics for shadow 10\n",
      "Computed metrics for shadow 11\n",
      "Computed metrics for shadow 12\n",
      "Computed metrics for shadow 13\n",
      "Computed metrics for shadow 14\n",
      "Computed metrics for shadow 15\n",
      "Computing statistics for losses...\n",
      "Computing statistics for logits...\n",
      "Computing statistics for scaled_logits...\n",
      "Computing statistics for target_logits...\n",
      "Performance Timings:\n",
      "Total computation time: 369.37s\n",
      "Finished stats\n",
      "Attack AUC: 0.49927176479999996\n"
     ]
    },
    {
     "name": "stderr",
     "output_type": "stream",
     "text": [
      "100%|███████████████████████████████████████████████████████████████████████████████████████████████████████████████████████████████████████████████████████████████████████████████████████████████████████████| 1563/1563 [00:11<00:00, 140.92it/s]\n",
      "100%|████████████████████████████████████████████████████████████████████████████████████████████████████████████████████████████████████████████████████████████████████████████████████████████████████████████| 1563/1563 [19:41<00:00,  1.32it/s]\n",
      "  0%|                                                                                                                                                                                                                       | 0/1563 [00:00<?, ?it/s]/home/igor/.venv/lib/python3.12/site-packages/captum/attr/_core/deep_lift.py:810: UserWarning: Setting forward, backward hooks and attributes on non-linear\n",
      "               activations. The hooks and attributes will be removed\n",
      "            after the attribution is finished\n",
      "  attributions = super().attribute.__wrapped__(  # type: ignore\n",
      "100%|████████████████████████████████████████████████████████████████████████████████████████████████████████████████████████████████████████████████████████████████████████████████████████████████████████████| 1563/1563 [16:22<00:00,  1.59it/s]\n"
     ]
    },
    {
     "name": "stdout",
     "output_type": "stream",
     "text": [
      "Attack AUC: 0.6032363664\n"
     ]
    },
    {
     "name": "stderr",
     "output_type": "stream",
     "text": [
      "100%|███████████████████████████████████████████████████████████████████████████████████████████████████████████████████████████████████████████████████████████████████████████████████████████████████████████| 1563/1563 [00:10<00:00, 142.96it/s]\n",
      "100%|████████████████████████████████████████████████████████████████████████████████████████████████████████████████████████████████████████████████████████████████████████████████████████████████████████████| 1563/1563 [19:47<00:00,  1.32it/s]\n",
      "  0%|                                                                                                                                                                                                                       | 0/1563 [00:00<?, ?it/s]/home/igor/.venv/lib/python3.12/site-packages/captum/attr/_core/deep_lift.py:810: UserWarning: Setting forward, backward hooks and attributes on non-linear\n",
      "               activations. The hooks and attributes will be removed\n",
      "            after the attribution is finished\n",
      "  attributions = super().attribute.__wrapped__(  # type: ignore\n",
      "100%|████████████████████████████████████████████████████████████████████████████████████████████████████████████████████████████████████████████████████████████████████████████████████████████████████████████| 1563/1563 [16:23<00:00,  1.59it/s]\n"
     ]
    },
    {
     "name": "stdout",
     "output_type": "stream",
     "text": [
      "No intermediate results found at /data/igor/data/scaled_logits_intermediate/wrn28-2_CIFAR10_clipnorm_3_nm_0.1.pt. Computing intermediate results...\n",
      "Computing all metrics...\n",
      "Computed metrics for shadow 0\n",
      "Computed metrics for shadow 1\n",
      "Computed metrics for shadow 2\n",
      "Computed metrics for shadow 3\n",
      "Computed metrics for shadow 4\n",
      "Computed metrics for shadow 5\n",
      "Computed metrics for shadow 6\n",
      "Computed metrics for shadow 7\n",
      "Computed metrics for shadow 8\n",
      "Computed metrics for shadow 9\n",
      "Computed metrics for shadow 10\n",
      "Computed metrics for shadow 11\n",
      "Computed metrics for shadow 12\n",
      "Computed metrics for shadow 13\n",
      "Computed metrics for shadow 14\n",
      "Computed metrics for shadow 15\n",
      "Computing statistics for losses...\n",
      "Computing statistics for logits...\n",
      "Computing statistics for scaled_logits...\n",
      "Computing statistics for target_logits...\n",
      "Performance Timings:\n",
      "Total computation time: 370.16s\n",
      "Finished stats\n",
      "Attack AUC: 0.5154872895999999\n"
     ]
    },
    {
     "name": "stderr",
     "output_type": "stream",
     "text": [
      "100%|███████████████████████████████████████████████████████████████████████████████████████████████████████████████████████████████████████████████████████████████████████████████████████████████████████████| 1563/1563 [00:11<00:00, 141.46it/s]\n",
      "100%|████████████████████████████████████████████████████████████████████████████████████████████████████████████████████████████████████████████████████████████████████████████████████████████████████████████| 1563/1563 [19:44<00:00,  1.32it/s]\n",
      "  0%|                                                                                                                                                                                                                       | 0/1563 [00:00<?, ?it/s]/home/igor/.venv/lib/python3.12/site-packages/captum/attr/_core/deep_lift.py:810: UserWarning: Setting forward, backward hooks and attributes on non-linear\n",
      "               activations. The hooks and attributes will be removed\n",
      "            after the attribution is finished\n",
      "  attributions = super().attribute.__wrapped__(  # type: ignore\n",
      "100%|████████████████████████████████████████████████████████████████████████████████████████████████████████████████████████████████████████████████████████████████████████████████████████████████████████████| 1563/1563 [16:29<00:00,  1.58it/s]\n"
     ]
    },
    {
     "name": "stdout",
     "output_type": "stream",
     "text": [
      "No intermediate results found at /data/igor/data/scaled_logits_intermediate/wrn28-2_CIFAR10_clipnorm_3_nm_1.pt. Computing intermediate results...\n",
      "Computing all metrics...\n",
      "Computed metrics for shadow 0\n",
      "Computed metrics for shadow 1\n",
      "Computed metrics for shadow 2\n",
      "Computed metrics for shadow 3\n",
      "Computed metrics for shadow 4\n",
      "Computed metrics for shadow 5\n",
      "Computed metrics for shadow 6\n",
      "Computed metrics for shadow 7\n",
      "Computed metrics for shadow 8\n",
      "Computed metrics for shadow 9\n",
      "Computed metrics for shadow 10\n",
      "Computed metrics for shadow 11\n",
      "Computed metrics for shadow 12\n",
      "Computed metrics for shadow 13\n",
      "Computed metrics for shadow 14\n",
      "Computed metrics for shadow 15\n",
      "Computing statistics for losses...\n",
      "Computing statistics for logits...\n",
      "Computing statistics for scaled_logits...\n",
      "Computing statistics for target_logits...\n",
      "Performance Timings:\n",
      "Total computation time: 375.26s\n",
      "Finished stats\n",
      "Attack AUC: 0.4996302704\n"
     ]
    },
    {
     "name": "stderr",
     "output_type": "stream",
     "text": [
      "100%|███████████████████████████████████████████████████████████████████████████████████████████████████████████████████████████████████████████████████████████████████████████████████████████████████████████| 1563/1563 [00:11<00:00, 140.87it/s]\n",
      "100%|████████████████████████████████████████████████████████████████████████████████████████████████████████████████████████████████████████████████████████████████████████████████████████████████████████████| 1563/1563 [19:45<00:00,  1.32it/s]\n",
      "  0%|                                                                                                                                                                                                                       | 0/1563 [00:00<?, ?it/s]/home/igor/.venv/lib/python3.12/site-packages/captum/attr/_core/deep_lift.py:810: UserWarning: Setting forward, backward hooks and attributes on non-linear\n",
      "               activations. The hooks and attributes will be removed\n",
      "            after the attribution is finished\n",
      "  attributions = super().attribute.__wrapped__(  # type: ignore\n",
      " 53%|█████████████████████████████████████████████████████████████████████████████████████████████████████████████▋                                                                                               | 836/1563 [08:44<08:35,  1.41it/s]"
     ]
    }
   ],
   "source": [
    "target_id = \"target\"\n",
    "attack = \"LiRA\"\n",
    "augment = True\n",
    "batchsize = 32\n",
    "num_workers = 8\n",
    "gpu = \":1\"\n",
    "dataset = \"CIFAR10\"\n",
    "arch = \"wrn28-2\"\n",
    "\n",
    "all_dfs = {}\n",
    "for clipnorm in (\"10\", \"3\", \"1\"):\n",
    "    for noise_multiplier in (\"0\", \"0.1\", \"1\"):\n",
    "        exp_id = f\"{arch}_{dataset}_clipnorm_{clipnorm}_nm_{noise_multiplier}\"\n",
    "\n",
    "        csv_path = f'data/trace_df_{arch}_{dataset}_clip{clipnorm}_nm_{noise_multiplier}.csv'\n",
    "        if os.path.exists(csv_path):\n",
    "            all_dfs[(clipnorm, noise_multiplier)] = pd.read_csv(csv_path, index_col=0)\n",
    "            continue\n",
    "\n",
    "        config = AttackConfig(\n",
    "            exp_id=exp_id,\n",
    "            target_id=target_id,\n",
    "            checkpoint=None,\n",
    "            arch=arch,\n",
    "            dataset=dataset,\n",
    "            attack=attack,\n",
    "            augment=augment,\n",
    "            batchsize=batchsize,\n",
    "            num_workers=num_workers,\n",
    "            gpu=gpu,\n",
    "            is_dp=True,\n",
    "        )\n",
    "        attack = LiRAAttack(config)\n",
    "        results = attack.run()\n",
    "\n",
    "        df = get_final_model_metrics(\n",
    "            model=attack.model, data_loader=attack.attack_loaders[0]\n",
    "        )\n",
    "        df = pd.merge(df, results, left_index=True, right_index=True)\n",
    "\n",
    "        trace = get_trace_reduction(exp_id, reduction=\"iqr\")\n",
    "        trace_df = pd.DataFrame({'trace_value': trace})\n",
    "        trace_df = pd.merge(trace_df, df, left_index=True, right_index=True)\n",
    "\n",
    "        trace_df.to_csv(csv_path)\n",
    "        all_dfs[(clipnorm, noise_multiplier)] = trace_df\n"
   ]
  },
  {
   "cell_type": "code",
   "execution_count": 51,
   "metadata": {},
   "outputs": [
    {
     "name": "stdout",
     "output_type": "stream",
     "text": [
      "No intermediate results found at /data/igor/data/scaled_logits_intermediate/wrn28-2_CIFAR10_clipnorm_1_nm_0.pt. Computing intermediate results...\n",
      "Computing all metrics...\n",
      "Computed metrics for shadow 0\n",
      "Computed metrics for shadow 1\n",
      "Computed metrics for shadow 2\n",
      "Computed metrics for shadow 3\n",
      "Computed metrics for shadow 4\n",
      "Computed metrics for shadow 5\n",
      "Computed metrics for shadow 6\n",
      "Computed metrics for shadow 7\n",
      "Computed metrics for shadow 8\n",
      "Computed metrics for shadow 9\n",
      "Computed metrics for shadow 10\n",
      "Computed metrics for shadow 11\n",
      "Computed metrics for shadow 12\n",
      "Computed metrics for shadow 13\n",
      "Computed metrics for shadow 14\n",
      "Computed metrics for shadow 15\n",
      "Computing statistics for losses...\n",
      "Computing statistics for logits...\n",
      "Computing statistics for scaled_logits...\n",
      "Computing statistics for target_logits...\n",
      "Performance Timings:\n",
      "Total computation time: 355.00s\n",
      "Finished stats\n",
      "Attack AUC: 0.5354067664\n"
     ]
    }
   ],
   "source": [
    "results = attack.run()"
   ]
  },
  {
   "cell_type": "code",
   "execution_count": 40,
   "metadata": {},
   "outputs": [
    {
     "name": "stderr",
     "output_type": "stream",
     "text": [
      "100%|███████████████████████████████████████████████████████████████████████████████████████████████████████████████████████████████████████████████████████████████████████████████████████████████████████████| 1563/1563 [00:10<00:00, 150.90it/s]\n"
     ]
    }
   ],
   "source": [
    "df = get_final_model_metrics(\n",
    "    model=attack.model, data_loader=attack.attack_loaders[0], metrics=[\"loss\"]\n",
    ")\n",
    "df = pd.merge(df, results, left_index=True, right_index=True)"
   ]
  },
  {
   "cell_type": "code",
   "execution_count": 41,
   "metadata": {},
   "outputs": [],
   "source": [
    "trace = get_trace_reduction(exp_id, reduction=\"iqr\")\n",
    "trace_df = pd.DataFrame({'trace_value': trace})\n",
    "trace_df = pd.merge(trace_df, df, left_index=True, right_index=True)"
   ]
  },
  {
   "cell_type": "code",
   "execution_count": 49,
   "metadata": {},
   "outputs": [
    {
     "data": {
      "text/plain": [
       "{'spearman_trace_value': 0.13480467888530726,\n",
       " 'spearman_loss': 0.02813197981283565,\n",
       " 'spearman_confidence': 0.005641580617373862,\n",
       " 'spearman_lira_score': 1.0,\n",
       " 'fpr': 0.01004,\n",
       " 'tpr': 0.03556,\n",
       " 'positives': 889,\n",
       " 'precision_random_guess': 0.03556,\n",
       " 'recall_random_guess': 0.05,\n",
       " 'overlap_trace_value_desc': 192,\n",
       " 'precision_trace_value_desc': 0.1536,\n",
       " 'recall_trace_value_desc': 0.21597300337457817,\n",
       " 'overlap_trace_value_asc': 0,\n",
       " 'precision_trace_value_asc': 0.0,\n",
       " 'recall_trace_value_asc': 0.0,\n",
       " 'overlap_loss_desc': 10,\n",
       " 'precision_loss_desc': 0.008,\n",
       " 'recall_loss_desc': 0.01124859392575928,\n",
       " 'overlap_loss_asc': 1,\n",
       " 'precision_loss_asc': 0.0008,\n",
       " 'recall_loss_asc': 0.0011248593925759281,\n",
       " 'overlap_confidence_desc': 1,\n",
       " 'precision_confidence_desc': 0.0008,\n",
       " 'recall_confidence_desc': 0.0011248593925759281,\n",
       " 'overlap_confidence_asc': 67,\n",
       " 'precision_confidence_asc': 0.0536,\n",
       " 'recall_confidence_asc': 0.07536557930258718,\n",
       " 'overlap_lira_score_desc': 889,\n",
       " 'precision_lira_score_desc': 0.7112,\n",
       " 'recall_lira_score_desc': 1.0,\n",
       " 'overlap_lira_score_asc': 0,\n",
       " 'precision_lira_score_asc': 0.0,\n",
       " 'recall_lira_score_asc': 0.0}"
      ]
     },
     "execution_count": 49,
     "metadata": {},
     "output_type": "execute_result"
    }
   ],
   "source": [
    "make_precision_recall_at_k_df_single_threshold(\n",
    "    scores_df=trace_df,\n",
    "    ground_truth_df=trace_df,\n",
    "    fpr_threshold=0.01,\n",
    "    k_frac=0.05,\n",
    ")"
   ]
  },
  {
   "cell_type": "code",
   "execution_count": null,
   "metadata": {},
   "outputs": [],
   "source": []
  }
 ],
 "metadata": {
  "language_info": {
   "name": "python"
  }
 },
 "nbformat": 4,
 "nbformat_minor": 2
}
